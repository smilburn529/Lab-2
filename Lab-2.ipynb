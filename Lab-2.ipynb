{
 "cells": [
  {
   "cell_type": "raw",
   "metadata": {},
   "source": [
    "---\n",
    "title: \"Lab 1: Gapminder Data Visualization\"\n",
    "author: \"Steve Milburn\"\n",
    "embed-resources: true\n",
    "---"
   ]
  },
  {
   "cell_type": "markdown",
   "metadata": {},
   "source": [
    "0. Import the data and declare your package dependencies."
   ]
  },
  {
   "cell_type": "code",
   "execution_count": 66,
   "metadata": {
    "vscode": {
     "languageId": "python"
    }
   },
   "outputs": [],
   "source": [
    "import numpy as np\n",
    "import pandas as pd\n",
    "\n",
    "\n",
    "avocadoes = pd.read_csv(\"Data/avocado-updated-2020.csv\")"
   ]
  },
  {
   "cell_type": "markdown",
   "metadata": {},
   "source": [
    "1. Briefly describe the data set. What information does it contain?"
   ]
  },
  {
   "cell_type": "code",
   "execution_count": 67,
   "metadata": {
    "vscode": {
     "languageId": "python"
    }
   },
   "outputs": [
    {
     "data": {
      "text/html": [
       "<div>\n",
       "<style scoped>\n",
       "    .dataframe tbody tr th:only-of-type {\n",
       "        vertical-align: middle;\n",
       "    }\n",
       "\n",
       "    .dataframe tbody tr th {\n",
       "        vertical-align: top;\n",
       "    }\n",
       "\n",
       "    .dataframe thead th {\n",
       "        text-align: right;\n",
       "    }\n",
       "</style>\n",
       "<table border=\"1\" class=\"dataframe\">\n",
       "  <thead>\n",
       "    <tr style=\"text-align: right;\">\n",
       "      <th></th>\n",
       "      <th>date</th>\n",
       "      <th>average_price</th>\n",
       "      <th>total_volume</th>\n",
       "      <th>4046</th>\n",
       "      <th>4225</th>\n",
       "      <th>4770</th>\n",
       "      <th>total_bags</th>\n",
       "      <th>small_bags</th>\n",
       "      <th>large_bags</th>\n",
       "      <th>xlarge_bags</th>\n",
       "      <th>type</th>\n",
       "      <th>year</th>\n",
       "      <th>geography</th>\n",
       "    </tr>\n",
       "  </thead>\n",
       "  <tbody>\n",
       "    <tr>\n",
       "      <th>0</th>\n",
       "      <td>2015-01-04</td>\n",
       "      <td>1.22</td>\n",
       "      <td>40873.28</td>\n",
       "      <td>2819.50</td>\n",
       "      <td>28287.42</td>\n",
       "      <td>49.90</td>\n",
       "      <td>9716.46</td>\n",
       "      <td>9186.93</td>\n",
       "      <td>529.53</td>\n",
       "      <td>0.00</td>\n",
       "      <td>conventional</td>\n",
       "      <td>2015</td>\n",
       "      <td>Albany</td>\n",
       "    </tr>\n",
       "    <tr>\n",
       "      <th>1</th>\n",
       "      <td>2015-01-04</td>\n",
       "      <td>1.79</td>\n",
       "      <td>1373.95</td>\n",
       "      <td>57.42</td>\n",
       "      <td>153.88</td>\n",
       "      <td>0.00</td>\n",
       "      <td>1162.65</td>\n",
       "      <td>1162.65</td>\n",
       "      <td>0.00</td>\n",
       "      <td>0.00</td>\n",
       "      <td>organic</td>\n",
       "      <td>2015</td>\n",
       "      <td>Albany</td>\n",
       "    </tr>\n",
       "    <tr>\n",
       "      <th>2</th>\n",
       "      <td>2015-01-04</td>\n",
       "      <td>1.00</td>\n",
       "      <td>435021.49</td>\n",
       "      <td>364302.39</td>\n",
       "      <td>23821.16</td>\n",
       "      <td>82.15</td>\n",
       "      <td>46815.79</td>\n",
       "      <td>16707.15</td>\n",
       "      <td>30108.64</td>\n",
       "      <td>0.00</td>\n",
       "      <td>conventional</td>\n",
       "      <td>2015</td>\n",
       "      <td>Atlanta</td>\n",
       "    </tr>\n",
       "    <tr>\n",
       "      <th>3</th>\n",
       "      <td>2015-01-04</td>\n",
       "      <td>1.76</td>\n",
       "      <td>3846.69</td>\n",
       "      <td>1500.15</td>\n",
       "      <td>938.35</td>\n",
       "      <td>0.00</td>\n",
       "      <td>1408.19</td>\n",
       "      <td>1071.35</td>\n",
       "      <td>336.84</td>\n",
       "      <td>0.00</td>\n",
       "      <td>organic</td>\n",
       "      <td>2015</td>\n",
       "      <td>Atlanta</td>\n",
       "    </tr>\n",
       "    <tr>\n",
       "      <th>4</th>\n",
       "      <td>2015-01-04</td>\n",
       "      <td>1.08</td>\n",
       "      <td>788025.06</td>\n",
       "      <td>53987.31</td>\n",
       "      <td>552906.04</td>\n",
       "      <td>39995.03</td>\n",
       "      <td>141136.68</td>\n",
       "      <td>137146.07</td>\n",
       "      <td>3990.61</td>\n",
       "      <td>0.00</td>\n",
       "      <td>conventional</td>\n",
       "      <td>2015</td>\n",
       "      <td>Baltimore/Washington</td>\n",
       "    </tr>\n",
       "    <tr>\n",
       "      <th>...</th>\n",
       "      <td>...</td>\n",
       "      <td>...</td>\n",
       "      <td>...</td>\n",
       "      <td>...</td>\n",
       "      <td>...</td>\n",
       "      <td>...</td>\n",
       "      <td>...</td>\n",
       "      <td>...</td>\n",
       "      <td>...</td>\n",
       "      <td>...</td>\n",
       "      <td>...</td>\n",
       "      <td>...</td>\n",
       "      <td>...</td>\n",
       "    </tr>\n",
       "    <tr>\n",
       "      <th>33040</th>\n",
       "      <td>2020-11-29</td>\n",
       "      <td>1.47</td>\n",
       "      <td>1583056.27</td>\n",
       "      <td>67544.48</td>\n",
       "      <td>97996.46</td>\n",
       "      <td>2617.17</td>\n",
       "      <td>1414878.10</td>\n",
       "      <td>906711.52</td>\n",
       "      <td>480191.83</td>\n",
       "      <td>27974.75</td>\n",
       "      <td>organic</td>\n",
       "      <td>2020</td>\n",
       "      <td>Total U.S.</td>\n",
       "    </tr>\n",
       "    <tr>\n",
       "      <th>33041</th>\n",
       "      <td>2020-11-29</td>\n",
       "      <td>0.91</td>\n",
       "      <td>5811114.22</td>\n",
       "      <td>1352877.53</td>\n",
       "      <td>589061.83</td>\n",
       "      <td>19741.90</td>\n",
       "      <td>3790665.29</td>\n",
       "      <td>2197611.02</td>\n",
       "      <td>1531530.14</td>\n",
       "      <td>61524.13</td>\n",
       "      <td>conventional</td>\n",
       "      <td>2020</td>\n",
       "      <td>West</td>\n",
       "    </tr>\n",
       "    <tr>\n",
       "      <th>33042</th>\n",
       "      <td>2020-11-29</td>\n",
       "      <td>1.48</td>\n",
       "      <td>289961.27</td>\n",
       "      <td>13273.75</td>\n",
       "      <td>19341.09</td>\n",
       "      <td>636.51</td>\n",
       "      <td>256709.92</td>\n",
       "      <td>122606.21</td>\n",
       "      <td>134103.71</td>\n",
       "      <td>0.00</td>\n",
       "      <td>organic</td>\n",
       "      <td>2020</td>\n",
       "      <td>West</td>\n",
       "    </tr>\n",
       "    <tr>\n",
       "      <th>33043</th>\n",
       "      <td>2020-11-29</td>\n",
       "      <td>0.67</td>\n",
       "      <td>822818.75</td>\n",
       "      <td>234688.01</td>\n",
       "      <td>80205.15</td>\n",
       "      <td>10543.63</td>\n",
       "      <td>497381.96</td>\n",
       "      <td>285764.11</td>\n",
       "      <td>210808.02</td>\n",
       "      <td>809.83</td>\n",
       "      <td>conventional</td>\n",
       "      <td>2020</td>\n",
       "      <td>West Tex/New Mexico</td>\n",
       "    </tr>\n",
       "    <tr>\n",
       "      <th>33044</th>\n",
       "      <td>2020-11-29</td>\n",
       "      <td>1.35</td>\n",
       "      <td>24106.58</td>\n",
       "      <td>1236.96</td>\n",
       "      <td>617.80</td>\n",
       "      <td>1564.98</td>\n",
       "      <td>20686.84</td>\n",
       "      <td>17824.52</td>\n",
       "      <td>2862.32</td>\n",
       "      <td>0.00</td>\n",
       "      <td>organic</td>\n",
       "      <td>2020</td>\n",
       "      <td>West Tex/New Mexico</td>\n",
       "    </tr>\n",
       "  </tbody>\n",
       "</table>\n",
       "<p>33045 rows × 13 columns</p>\n",
       "</div>"
      ],
      "text/plain": [
       "             date  average_price  total_volume        4046       4225  \\\n",
       "0      2015-01-04           1.22      40873.28     2819.50   28287.42   \n",
       "1      2015-01-04           1.79       1373.95       57.42     153.88   \n",
       "2      2015-01-04           1.00     435021.49   364302.39   23821.16   \n",
       "3      2015-01-04           1.76       3846.69     1500.15     938.35   \n",
       "4      2015-01-04           1.08     788025.06    53987.31  552906.04   \n",
       "...           ...            ...           ...         ...        ...   \n",
       "33040  2020-11-29           1.47    1583056.27    67544.48   97996.46   \n",
       "33041  2020-11-29           0.91    5811114.22  1352877.53  589061.83   \n",
       "33042  2020-11-29           1.48     289961.27    13273.75   19341.09   \n",
       "33043  2020-11-29           0.67     822818.75   234688.01   80205.15   \n",
       "33044  2020-11-29           1.35      24106.58     1236.96     617.80   \n",
       "\n",
       "           4770  total_bags  small_bags  large_bags  xlarge_bags  \\\n",
       "0         49.90     9716.46     9186.93      529.53         0.00   \n",
       "1          0.00     1162.65     1162.65        0.00         0.00   \n",
       "2         82.15    46815.79    16707.15    30108.64         0.00   \n",
       "3          0.00     1408.19     1071.35      336.84         0.00   \n",
       "4      39995.03   141136.68   137146.07     3990.61         0.00   \n",
       "...         ...         ...         ...         ...          ...   \n",
       "33040   2617.17  1414878.10   906711.52   480191.83     27974.75   \n",
       "33041  19741.90  3790665.29  2197611.02  1531530.14     61524.13   \n",
       "33042    636.51   256709.92   122606.21   134103.71         0.00   \n",
       "33043  10543.63   497381.96   285764.11   210808.02       809.83   \n",
       "33044   1564.98    20686.84    17824.52     2862.32         0.00   \n",
       "\n",
       "               type  year             geography  \n",
       "0      conventional  2015                Albany  \n",
       "1           organic  2015                Albany  \n",
       "2      conventional  2015               Atlanta  \n",
       "3           organic  2015               Atlanta  \n",
       "4      conventional  2015  Baltimore/Washington  \n",
       "...             ...   ...                   ...  \n",
       "33040       organic  2020            Total U.S.  \n",
       "33041  conventional  2020                  West  \n",
       "33042       organic  2020                  West  \n",
       "33043  conventional  2020   West Tex/New Mexico  \n",
       "33044       organic  2020   West Tex/New Mexico  \n",
       "\n",
       "[33045 rows x 13 columns]"
      ]
     },
     "execution_count": null,
     "metadata": {},
     "output_type": "execute_result"
    }
   ],
   "source": [
    "avocadoes\n"
   ]
  },
  {
   "cell_type": "markdown",
   "metadata": {},
   "source": [
    "2. Clean the data in any way you see fit."
   ]
  },
  {
   "cell_type": "code",
   "execution_count": 68,
   "metadata": {
    "vscode": {
     "languageId": "python"
    }
   },
   "outputs": [
    {
     "data": {
      "text/plain": [
       "array(['Albany', 'Atlanta', 'Baltimore/Washington', 'Boise', 'Boston',\n",
       "       'Buffalo/Rochester', 'California', 'Charlotte', 'Chicago',\n",
       "       'Cincinnati/Dayton', 'Columbus', 'Dallas/Ft. Worth', 'Denver',\n",
       "       'Detroit', 'Grand Rapids', 'Great Lakes', 'Harrisburg/Scranton',\n",
       "       'Hartford/Springfield', 'Houston', 'Indianapolis', 'Jacksonville',\n",
       "       'Las Vegas', 'Los Angeles', 'Louisville', 'Miami/Ft. Lauderdale',\n",
       "       'Midsouth', 'Nashville', 'New Orleans/Mobile', 'New York',\n",
       "       'Northeast', 'Northern New England', 'Orlando', 'Philadelphia',\n",
       "       'Phoenix/Tucson', 'Pittsburgh', 'Plains', 'Portland',\n",
       "       'Raleigh/Greensboro', 'Richmond/Norfolk', 'Roanoke', 'Sacramento',\n",
       "       'San Diego', 'San Francisco', 'Seattle', 'South Carolina',\n",
       "       'South Central', 'Southeast', 'Spokane', 'St. Louis', 'Syracuse',\n",
       "       'Tampa', 'Total U.S.', 'West', 'West Tex/New Mexico'], dtype=object)"
      ]
     },
     "execution_count": null,
     "metadata": {},
     "output_type": "execute_result"
    }
   ],
   "source": [
    "avocado_clean = avocadoes[['date', 'average_price', 'total_volume', '4046', '4225', '4770', 'total_bags', 'small_bags', 'large_bags', 'xlarge_bags', 'type', 'year','geography']]\n",
    "avocado_clean[\"geography\"].unique()"
   ]
  },
  {
   "cell_type": "code",
   "execution_count": 73,
   "metadata": {
    "vscode": {
     "languageId": "python"
    }
   },
   "outputs": [
    {
     "data": {
      "text/html": [
       "<div>\n",
       "<style scoped>\n",
       "    .dataframe tbody tr th:only-of-type {\n",
       "        vertical-align: middle;\n",
       "    }\n",
       "\n",
       "    .dataframe tbody tr th {\n",
       "        vertical-align: top;\n",
       "    }\n",
       "\n",
       "    .dataframe thead th {\n",
       "        text-align: right;\n",
       "    }\n",
       "</style>\n",
       "<table border=\"1\" class=\"dataframe\">\n",
       "  <thead>\n",
       "    <tr style=\"text-align: right;\">\n",
       "      <th></th>\n",
       "      <th>date</th>\n",
       "      <th>average_price</th>\n",
       "      <th>total_volume</th>\n",
       "      <th>Small</th>\n",
       "      <th>Large</th>\n",
       "      <th>Xlarge</th>\n",
       "      <th>total_bags</th>\n",
       "      <th>small_bags</th>\n",
       "      <th>large_bags</th>\n",
       "      <th>xlarge_bags</th>\n",
       "      <th>type</th>\n",
       "      <th>year</th>\n",
       "      <th>geography</th>\n",
       "      <th>region_type</th>\n",
       "    </tr>\n",
       "  </thead>\n",
       "  <tbody>\n",
       "    <tr>\n",
       "      <th>0</th>\n",
       "      <td>2015-01-04</td>\n",
       "      <td>1.22</td>\n",
       "      <td>40873.28</td>\n",
       "      <td>2819.50</td>\n",
       "      <td>28287.42</td>\n",
       "      <td>49.90</td>\n",
       "      <td>9716.46</td>\n",
       "      <td>9186.93</td>\n",
       "      <td>529.53</td>\n",
       "      <td>0.0</td>\n",
       "      <td>conventional</td>\n",
       "      <td>2015</td>\n",
       "      <td>Albany</td>\n",
       "      <td>Metro Region</td>\n",
       "    </tr>\n",
       "    <tr>\n",
       "      <th>1</th>\n",
       "      <td>2015-01-04</td>\n",
       "      <td>1.79</td>\n",
       "      <td>1373.95</td>\n",
       "      <td>57.42</td>\n",
       "      <td>153.88</td>\n",
       "      <td>0.00</td>\n",
       "      <td>1162.65</td>\n",
       "      <td>1162.65</td>\n",
       "      <td>0.00</td>\n",
       "      <td>0.0</td>\n",
       "      <td>organic</td>\n",
       "      <td>2015</td>\n",
       "      <td>Albany</td>\n",
       "      <td>Metro Region</td>\n",
       "    </tr>\n",
       "    <tr>\n",
       "      <th>2</th>\n",
       "      <td>2015-01-04</td>\n",
       "      <td>1.00</td>\n",
       "      <td>435021.49</td>\n",
       "      <td>364302.39</td>\n",
       "      <td>23821.16</td>\n",
       "      <td>82.15</td>\n",
       "      <td>46815.79</td>\n",
       "      <td>16707.15</td>\n",
       "      <td>30108.64</td>\n",
       "      <td>0.0</td>\n",
       "      <td>conventional</td>\n",
       "      <td>2015</td>\n",
       "      <td>Atlanta</td>\n",
       "      <td>Metro Region</td>\n",
       "    </tr>\n",
       "    <tr>\n",
       "      <th>3</th>\n",
       "      <td>2015-01-04</td>\n",
       "      <td>1.76</td>\n",
       "      <td>3846.69</td>\n",
       "      <td>1500.15</td>\n",
       "      <td>938.35</td>\n",
       "      <td>0.00</td>\n",
       "      <td>1408.19</td>\n",
       "      <td>1071.35</td>\n",
       "      <td>336.84</td>\n",
       "      <td>0.0</td>\n",
       "      <td>organic</td>\n",
       "      <td>2015</td>\n",
       "      <td>Atlanta</td>\n",
       "      <td>Metro Region</td>\n",
       "    </tr>\n",
       "    <tr>\n",
       "      <th>4</th>\n",
       "      <td>2015-01-04</td>\n",
       "      <td>1.08</td>\n",
       "      <td>788025.06</td>\n",
       "      <td>53987.31</td>\n",
       "      <td>552906.04</td>\n",
       "      <td>39995.03</td>\n",
       "      <td>141136.68</td>\n",
       "      <td>137146.07</td>\n",
       "      <td>3990.61</td>\n",
       "      <td>0.0</td>\n",
       "      <td>conventional</td>\n",
       "      <td>2015</td>\n",
       "      <td>Baltimore/Washington</td>\n",
       "      <td>Metro Region</td>\n",
       "    </tr>\n",
       "  </tbody>\n",
       "</table>\n",
       "</div>"
      ],
      "text/plain": [
       "         date  average_price  total_volume      Small      Large    Xlarge  \\\n",
       "0  2015-01-04           1.22      40873.28    2819.50   28287.42     49.90   \n",
       "1  2015-01-04           1.79       1373.95      57.42     153.88      0.00   \n",
       "2  2015-01-04           1.00     435021.49  364302.39   23821.16     82.15   \n",
       "3  2015-01-04           1.76       3846.69    1500.15     938.35      0.00   \n",
       "4  2015-01-04           1.08     788025.06   53987.31  552906.04  39995.03   \n",
       "\n",
       "   total_bags  small_bags  large_bags  xlarge_bags          type  year  \\\n",
       "0     9716.46     9186.93      529.53          0.0  conventional  2015   \n",
       "1     1162.65     1162.65        0.00          0.0       organic  2015   \n",
       "2    46815.79    16707.15    30108.64          0.0  conventional  2015   \n",
       "3     1408.19     1071.35      336.84          0.0       organic  2015   \n",
       "4   141136.68   137146.07     3990.61          0.0  conventional  2015   \n",
       "\n",
       "              geography   region_type  \n",
       "0                Albany  Metro Region  \n",
       "1                Albany  Metro Region  \n",
       "2               Atlanta  Metro Region  \n",
       "3               Atlanta  Metro Region  \n",
       "4  Baltimore/Washington  Metro Region  "
      ]
     },
     "execution_count": null,
     "metadata": {},
     "output_type": "execute_result"
    }
   ],
   "source": [
    "avocado_clean = avocado_clean.rename(columns={'4046': 'Small', '4225': 'Large', '4770':'Xlarge'})\n",
    "\n",
    "avocado_clean.head()"
   ]
  },
  {
   "cell_type": "code",
   "execution_count": 69,
   "metadata": {
    "vscode": {
     "languageId": "python"
    }
   },
   "outputs": [
    {
     "data": {
      "text/html": [
       "<div>\n",
       "<style scoped>\n",
       "    .dataframe tbody tr th:only-of-type {\n",
       "        vertical-align: middle;\n",
       "    }\n",
       "\n",
       "    .dataframe tbody tr th {\n",
       "        vertical-align: top;\n",
       "    }\n",
       "\n",
       "    .dataframe thead th {\n",
       "        text-align: right;\n",
       "    }\n",
       "</style>\n",
       "<table border=\"1\" class=\"dataframe\">\n",
       "  <thead>\n",
       "    <tr style=\"text-align: right;\">\n",
       "      <th></th>\n",
       "      <th>date</th>\n",
       "      <th>average_price</th>\n",
       "      <th>total_volume</th>\n",
       "      <th>4046</th>\n",
       "      <th>4225</th>\n",
       "      <th>4770</th>\n",
       "      <th>total_bags</th>\n",
       "      <th>small_bags</th>\n",
       "      <th>large_bags</th>\n",
       "      <th>xlarge_bags</th>\n",
       "      <th>type</th>\n",
       "      <th>year</th>\n",
       "      <th>geography</th>\n",
       "      <th>region_type</th>\n",
       "    </tr>\n",
       "  </thead>\n",
       "  <tbody>\n",
       "    <tr>\n",
       "      <th>0</th>\n",
       "      <td>2015-01-04</td>\n",
       "      <td>1.22</td>\n",
       "      <td>40873.28</td>\n",
       "      <td>2819.50</td>\n",
       "      <td>28287.42</td>\n",
       "      <td>49.90</td>\n",
       "      <td>9716.46</td>\n",
       "      <td>9186.93</td>\n",
       "      <td>529.53</td>\n",
       "      <td>0.0</td>\n",
       "      <td>conventional</td>\n",
       "      <td>2015</td>\n",
       "      <td>Albany</td>\n",
       "      <td>Metro Region</td>\n",
       "    </tr>\n",
       "    <tr>\n",
       "      <th>1</th>\n",
       "      <td>2015-01-04</td>\n",
       "      <td>1.79</td>\n",
       "      <td>1373.95</td>\n",
       "      <td>57.42</td>\n",
       "      <td>153.88</td>\n",
       "      <td>0.00</td>\n",
       "      <td>1162.65</td>\n",
       "      <td>1162.65</td>\n",
       "      <td>0.00</td>\n",
       "      <td>0.0</td>\n",
       "      <td>organic</td>\n",
       "      <td>2015</td>\n",
       "      <td>Albany</td>\n",
       "      <td>Metro Region</td>\n",
       "    </tr>\n",
       "    <tr>\n",
       "      <th>2</th>\n",
       "      <td>2015-01-04</td>\n",
       "      <td>1.00</td>\n",
       "      <td>435021.49</td>\n",
       "      <td>364302.39</td>\n",
       "      <td>23821.16</td>\n",
       "      <td>82.15</td>\n",
       "      <td>46815.79</td>\n",
       "      <td>16707.15</td>\n",
       "      <td>30108.64</td>\n",
       "      <td>0.0</td>\n",
       "      <td>conventional</td>\n",
       "      <td>2015</td>\n",
       "      <td>Atlanta</td>\n",
       "      <td>Metro Region</td>\n",
       "    </tr>\n",
       "    <tr>\n",
       "      <th>3</th>\n",
       "      <td>2015-01-04</td>\n",
       "      <td>1.76</td>\n",
       "      <td>3846.69</td>\n",
       "      <td>1500.15</td>\n",
       "      <td>938.35</td>\n",
       "      <td>0.00</td>\n",
       "      <td>1408.19</td>\n",
       "      <td>1071.35</td>\n",
       "      <td>336.84</td>\n",
       "      <td>0.0</td>\n",
       "      <td>organic</td>\n",
       "      <td>2015</td>\n",
       "      <td>Atlanta</td>\n",
       "      <td>Metro Region</td>\n",
       "    </tr>\n",
       "    <tr>\n",
       "      <th>4</th>\n",
       "      <td>2015-01-04</td>\n",
       "      <td>1.08</td>\n",
       "      <td>788025.06</td>\n",
       "      <td>53987.31</td>\n",
       "      <td>552906.04</td>\n",
       "      <td>39995.03</td>\n",
       "      <td>141136.68</td>\n",
       "      <td>137146.07</td>\n",
       "      <td>3990.61</td>\n",
       "      <td>0.0</td>\n",
       "      <td>conventional</td>\n",
       "      <td>2015</td>\n",
       "      <td>Baltimore/Washington</td>\n",
       "      <td>Metro Region</td>\n",
       "    </tr>\n",
       "  </tbody>\n",
       "</table>\n",
       "</div>"
      ],
      "text/plain": [
       "         date  average_price  total_volume       4046       4225      4770  \\\n",
       "0  2015-01-04           1.22      40873.28    2819.50   28287.42     49.90   \n",
       "1  2015-01-04           1.79       1373.95      57.42     153.88      0.00   \n",
       "2  2015-01-04           1.00     435021.49  364302.39   23821.16     82.15   \n",
       "3  2015-01-04           1.76       3846.69    1500.15     938.35      0.00   \n",
       "4  2015-01-04           1.08     788025.06   53987.31  552906.04  39995.03   \n",
       "\n",
       "   total_bags  small_bags  large_bags  xlarge_bags          type  year  \\\n",
       "0     9716.46     9186.93      529.53          0.0  conventional  2015   \n",
       "1     1162.65     1162.65        0.00          0.0       organic  2015   \n",
       "2    46815.79    16707.15    30108.64          0.0  conventional  2015   \n",
       "3     1408.19     1071.35      336.84          0.0       organic  2015   \n",
       "4   141136.68   137146.07     3990.61          0.0  conventional  2015   \n",
       "\n",
       "              geography   region_type  \n",
       "0                Albany  Metro Region  \n",
       "1                Albany  Metro Region  \n",
       "2               Atlanta  Metro Region  \n",
       "3               Atlanta  Metro Region  \n",
       "4  Baltimore/Washington  Metro Region  "
      ]
     },
     "execution_count": null,
     "metadata": {},
     "output_type": "execute_result"
    }
   ],
   "source": [
    "# Define the full mapping of geography to region type\n",
    "region_mapping = {\n",
    "    'West': 'Major Region',\n",
    "    'Northeast': 'Major Region',\n",
    "    'Southeast': 'Major Region',\n",
    "    'South Central': 'Major Region',\n",
    "    'Midsouth': 'Major Region',\n",
    "    'Great Lakes': 'Major Region',\n",
    "    'Plains': 'Major Region',\n",
    "    \n",
    "    'California': 'State-Level Region',\n",
    "    'South Carolina': 'State-Level Region',\n",
    "    'West Tex/New Mexico': 'State-Level Region',\n",
    "    'Northern New England': 'State-Level Region',\n",
    "    \n",
    "    'Albany': 'Metro Region',\n",
    "    'Atlanta': 'Metro Region',\n",
    "    'Baltimore/Washington': 'Metro Region',\n",
    "    'Boise': 'Metro Region',\n",
    "    'Boston': 'Metro Region',\n",
    "    'Buffalo/Rochester': 'Metro Region',\n",
    "    'Charlotte': 'Metro Region',\n",
    "    'Chicago': 'Metro Region',\n",
    "    'Cincinnati/Dayton': 'Metro Region',\n",
    "    'Columbus': 'Metro Region',\n",
    "    'Dallas/Ft. Worth': 'Metro Region',\n",
    "    'Denver': 'Metro Region',\n",
    "    'Detroit': 'Metro Region',\n",
    "    'Grand Rapids': 'Metro Region',\n",
    "    'Harrisburg/Scranton': 'Metro Region',\n",
    "    'Hartford/Springfield': 'Metro Region',\n",
    "    'Houston': 'Metro Region',\n",
    "    'Indianapolis': 'Metro Region',\n",
    "    'Jacksonville': 'Metro Region',\n",
    "    'Las Vegas': 'Metro Region',\n",
    "    'Los Angeles': 'Metro Region',\n",
    "    'Louisville': 'Metro Region',\n",
    "    'Miami/Ft. Lauderdale': 'Metro Region',\n",
    "    'Nashville': 'Metro Region',\n",
    "    'New Orleans/Mobile': 'Metro Region',\n",
    "    'New York': 'Metro Region',\n",
    "    'Orlando': 'Metro Region',\n",
    "    'Philadelphia': 'Metro Region',\n",
    "    'Phoenix/Tucson': 'Metro Region',\n",
    "    'Pittsburgh': 'Metro Region',\n",
    "    'Portland': 'Metro Region',\n",
    "    'Raleigh/Greensboro': 'Metro Region',\n",
    "    'Richmond/Norfolk': 'Metro Region',\n",
    "    'Roanoke': 'Metro Region',\n",
    "    'Sacramento': 'Metro Region',\n",
    "    'San Diego': 'Metro Region',\n",
    "    'San Francisco': 'Metro Region',\n",
    "    'Seattle': 'Metro Region',\n",
    "    'Spokane': 'Metro Region',\n",
    "    'St. Louis': 'Metro Region',\n",
    "    'Syracuse': 'Metro Region',\n",
    "    'Tampa': 'Metro Region',\n",
    "    \n",
    "    'Total U.S.': 'Total U.S.'  \n",
    "}\n",
    "\n",
    "# Create a new region type column based on the mapping\n",
    "avocado_clean['region_type'] = avocado_clean['geography'].apply(lambda x: region_mapping.get(x, 'Unknown'))\n",
    "\n",
    "avocado_clean.head()"
   ]
  },
  {
   "cell_type": "markdown",
   "metadata": {},
   "source": [
    "3. Which major geographical region sold the most total organic, small Hass avocados in 2017?"
   ]
  },
  {
   "cell_type": "code",
   "execution_count": 74,
   "metadata": {
    "vscode": {
     "languageId": "python"
    }
   },
   "outputs": [],
   "source": [
    "major_regions_2017_organic = avocado_clean[(avocado_clean['region_type'] == 'Major Region') & (avocado_clean['year'] == 2017) & (avocado_clean['type'] == 'organic')]\n",
    "\n",
    "# Step 4: Group by the new 'major_region' and sum small avocados\n",
    "total_small_hass_by_major_region = major_regions_2017_organic.groupby('geography')['Small'].sum()\n"
   ]
  },
  {
   "cell_type": "code",
   "execution_count": 75,
   "metadata": {
    "vscode": {
     "languageId": "python"
    }
   },
   "outputs": [
    {
     "name": "stdout",
     "output_type": "stream",
     "text": [
      "The major region that sold the most total organic small Hass avocados in 2017 is West, with 1870206.29 avocados sold.\n",
      "The major region that sold the most total organic small Hass avocados in 2017 is West, with 1870206.29 avocados sold.\n"
     ]
    }
   ],
   "source": [
    "\n",
    "# Step 5: Find the major region with the most sales\n",
    "max_major_region = total_small_hass_by_major_region.idxmax()\n",
    "max_sales = total_small_hass_by_major_region.max()\n",
    "\n",
    "print(f\"The major region that sold the most total organic small Hass avocados in 2017 is {max_major_region}, with {max_sales} avocados sold.\")"
   ]
  },
  {
   "cell_type": "markdown",
   "metadata": {},
   "source": [
    "Split the date variable into month, day, and year variables. In which month is the highest average volume of avocado sales?"
   ]
  },
  {
   "cell_type": "code",
   "execution_count": 76,
   "metadata": {
    "vscode": {
     "languageId": "python"
    }
   },
   "outputs": [],
   "source": [
    "avocado_clean['date'] = pd.to_datetime(avocado_clean['date'])\n",
    "\n",
    "# Create separate 'Year', 'Month', and 'Day' columns\n",
    "avocado_clean['year'] = avocado_clean['date'].dt.year\n",
    "avocado_clean['month'] = avocado_clean['date'].dt.month\n",
    "avocado_clean['day'] = avocado_clean['date'].dt.day"
   ]
  },
  {
   "cell_type": "code",
   "execution_count": 77,
   "metadata": {
    "vscode": {
     "languageId": "python"
    }
   },
   "outputs": [
    {
     "name": "stdout",
     "output_type": "stream",
     "text": [
      "5\n",
      "1123632.254218107\n",
      "5\n",
      "1123632.254218107\n"
     ]
    }
   ],
   "source": [
    "monthly_avg_volume = avocado_clean.groupby('month')['total_volume'].mean()\n",
    "\n",
    "# Find the month with the maximum average sales volume\n",
    "max_volume_month = monthly_avg_volume.idxmax()\n",
    "max_avg_volume = monthly_avg_volume.max()\n",
    "\n",
    "print(max_volume_month)\n",
    "print(max_avg_volume)"
   ]
  },
  {
   "cell_type": "markdown",
   "metadata": {},
   "source": [
    "May is the month with the highest average volume of avocado sales with an average volume of 1,123,632 avocadoes.\n"
   ]
  },
  {
   "cell_type": "markdown",
   "metadata": {},
   "source": [
    "5. Which metro area geographical regions sold the most total avocados? Plot side-by-side box-plots of the total volume for only the five metro geographical regions with the highest averages for the total_volume variable."
   ]
  },
  {
   "cell_type": "code",
   "execution_count": 48,
   "metadata": {
    "vscode": {
     "languageId": "python"
    }
   },
   "outputs": [],
   "source": [
    "df_metro = avocado_clean[avocado_clean['region_type'] == 'Metro Region']\n",
    "\n",
    "# Group by metro area and calculate the average total volume\n",
    "metro_avg_volume = df_metro.groupby('geography')['total_volume'].mean().reset_index()\n",
    "\n",
    "# Sort to get the top 5 metro areas with the highest average volume\n",
    "top_metro_areas = metro_avg_volume.sort_values(by='total_volume', ascending=False).head(5)\n",
    "top_metro_names = top_metro_areas['geography'].tolist()\n",
    "\n",
    "# Filter the original metro DataFrame to include only the top 5 metro areas\n",
    "df_top_metro = df_metro[df_metro['geography'].isin(top_metro_names)]\n",
    "\n",
    "\n"
   ]
  },
  {
   "cell_type": "code",
   "execution_count": 78,
   "metadata": {
    "vscode": {
     "languageId": "python"
    }
   },
   "outputs": [
    {
     "data": {
      "image/png": "[encoded data removed]"
     },
     "metadata": {},
     "output_type": "display_data"
    }
   ],
   "source": [
    "from plotnine import ggplot, aes, geom_boxplot, labs, theme_minimal, guides\n",
    "\n",
    "(\n",
    "    ggplot(df_top_metro, aes(x='geography', y='total_volume', fill='geography')) +\n",
    "    geom_boxplot() +\n",
    "    theme_minimal() +\n",
    "    guides(fill=False) +\n",
    "    labs(\n",
    "        title='Total Avocado Volume Sold in Top 5 Metro Areas',\n",
    "        x='Metro Area',\n",
    "        y='Total Volume'\n",
    "    )\n",
    ")"
   ]
  },
  {
   "cell_type": "markdown",
   "metadata": {},
   "source": [
    "6. From your cleaned data set, create a data set with only these California regions and answer the following questions about these California regions only."
   ]
  },
  {
   "cell_type": "code",
   "execution_count": 63,
   "metadata": {
    "vscode": {
     "languageId": "python"
    }
   },
   "outputs": [
    {
     "data": {
      "text/plain": [
       "array(['Los Angeles', 'Sacramento', 'San Diego', 'San Francisco'],\n",
       "      dtype=object)"
      ]
     },
     "execution_count": null,
     "metadata": {},
     "output_type": "execute_result"
    }
   ],
   "source": [
    "california_regions = [\"Los Angeles\", \"San Diego\", \"Sacramento\", \"San Francisco\"]\n",
    "california = avocado_clean[avocado_clean['geography'].isin(california_regions)]\n",
    "\n",
    "california[\"geography\"].unique()\n",
    "\n"
   ]
  },
  {
   "cell_type": "markdown",
   "metadata": {},
   "source": [
    "7. In which California regions is the price of organic versus conventional avocados most different? Support your answer with a few summary statistics AND a visualization."
   ]
  },
  {
   "cell_type": "code",
   "execution_count": 85,
   "metadata": {
    "vscode": {
     "languageId": "python"
    }
   },
   "outputs": [
    {
     "data": {
      "text/html": [
       "<div>\n",
       "<style scoped>\n",
       "    .dataframe tbody tr th:only-of-type {\n",
       "        vertical-align: middle;\n",
       "    }\n",
       "\n",
       "    .dataframe tbody tr th {\n",
       "        vertical-align: top;\n",
       "    }\n",
       "\n",
       "    .dataframe thead th {\n",
       "        text-align: right;\n",
       "    }\n",
       "</style>\n",
       "<table border=\"1\" class=\"dataframe\">\n",
       "  <thead>\n",
       "    <tr style=\"text-align: right;\">\n",
       "      <th>type</th>\n",
       "      <th>conventional</th>\n",
       "      <th>organic</th>\n",
       "      <th>price_difference</th>\n",
       "    </tr>\n",
       "    <tr>\n",
       "      <th>geography</th>\n",
       "      <th></th>\n",
       "      <th></th>\n",
       "      <th></th>\n",
       "    </tr>\n",
       "  </thead>\n",
       "  <tbody>\n",
       "    <tr>\n",
       "      <th>Los Angeles</th>\n",
       "      <td>1.047124</td>\n",
       "      <td>1.574902</td>\n",
       "      <td>0.527778</td>\n",
       "    </tr>\n",
       "    <tr>\n",
       "      <th>Sacramento</th>\n",
       "      <td>1.295359</td>\n",
       "      <td>1.873856</td>\n",
       "      <td>0.578497</td>\n",
       "    </tr>\n",
       "    <tr>\n",
       "      <th>San Diego</th>\n",
       "      <td>1.113856</td>\n",
       "      <td>1.798366</td>\n",
       "      <td>0.684510</td>\n",
       "    </tr>\n",
       "    <tr>\n",
       "      <th>San Francisco</th>\n",
       "      <td>1.400490</td>\n",
       "      <td>2.119444</td>\n",
       "      <td>0.718954</td>\n",
       "    </tr>\n",
       "  </tbody>\n",
       "</table>\n",
       "</div>"
      ],
      "text/plain": [
       "type           conventional   organic  price_difference\n",
       "geography                                              \n",
       "Los Angeles        1.047124  1.574902          0.527778\n",
       "Sacramento         1.295359  1.873856          0.578497\n",
       "San Diego          1.113856  1.798366          0.684510\n",
       "San Francisco      1.400490  2.119444          0.718954"
      ]
     },
     "execution_count": null,
     "metadata": {},
     "output_type": "execute_result"
    }
   ],
   "source": [
    "price_summary = (california.groupby(['geography', 'type'])['average_price'].mean().unstack())\n",
    "\n",
    "# Add a new column for price difference between Organic and Conventional\n",
    "price_summary['price_difference'] = abs(price_summary['organic'] - price_summary['conventional'])\n",
    "\n",
    "price_summary"
   ]
  },
  {
   "cell_type": "markdown",
   "metadata": {},
   "source": []
  },
  {
   "cell_type": "code",
   "execution_count": 87,
   "metadata": {
    "vscode": {
     "languageId": "python"
    }
   },
   "outputs": [
    {
     "data": {
      "image/png": "[encoded data removed]"
     },
     "metadata": {},
     "output_type": "display_data"
    }
   ],
   "source": [
    "price_summary = price_summary.reset_index()\n",
    "\n",
    "\n",
    "price_summary_long = pd.melt(price_summary, id_vars='geography', value_vars=['organic', 'conventional'], var_name='Type', value_name='average_price')\n",
    "\n",
    "# Create a bar plot using plotnine\n",
    "(\n",
    "    ggplot(price_summary_long, aes(x='geography', y='average_price', fill='Type')) +\n",
    "    geom_bar(stat='identity', position='dodge') + \n",
    "    theme_minimal() +\n",
    "    labs(\n",
    "        title='Average Price of Organic vs Conventional Avocados in California Regions',\n",
    "        x='California Regions',\n",
    "        y='Average Price ($)',\n",
    "        fill='Avocado Type'\n",
    "    )\n",
    ")"
   ]
  },
  {
   "cell_type": "code",
   "execution_count": 89,
   "metadata": {
    "vscode": {
     "languageId": "python"
    }
   },
   "outputs": [
    {
     "data": {
      "image/png": "[encoded data removed]"
     },
     "metadata": {},
     "output_type": "display_data"
    }
   ],
   "source": [
    "\n",
    "(ggplot(price_summary, aes(x='geography', y='price_difference', fill='geography')) +\n",
    "    geom_bar(stat='identity') +\n",
    "    theme_minimal() +\n",
    "    guides(fill=False) +\n",
    "    labs(\n",
    "        title='Price Difference between Organic and Conventional Avocados in California Regions',\n",
    "        x='California Regions',\n",
    "        y='Price Difference ($)')\n",
    ")"
   ]
  },
  {
   "cell_type": "code",
   "execution_count": 65,
   "metadata": {
    "vscode": {
     "languageId": "python"
    }
   },
   "outputs": [
    {
     "data": {
      "text/html": [
       "<div>\n",
       "<style scoped>\n",
       "    .dataframe tbody tr th:only-of-type {\n",
       "        vertical-align: middle;\n",
       "    }\n",
       "\n",
       "    .dataframe tbody tr th {\n",
       "        vertical-align: top;\n",
       "    }\n",
       "\n",
       "    .dataframe thead th {\n",
       "        text-align: right;\n",
       "    }\n",
       "</style>\n",
       "<table border=\"1\" class=\"dataframe\">\n",
       "  <thead>\n",
       "    <tr style=\"text-align: right;\">\n",
       "      <th></th>\n",
       "      <th>date</th>\n",
       "      <th>average_price</th>\n",
       "      <th>total_volume</th>\n",
       "      <th>small_hass</th>\n",
       "      <th>large_hass</th>\n",
       "      <th>extra_large_hass</th>\n",
       "      <th>total_bags</th>\n",
       "      <th>small_bags</th>\n",
       "      <th>large_bags</th>\n",
       "      <th>xlarge_bags</th>\n",
       "      <th>type</th>\n",
       "      <th>year</th>\n",
       "      <th>geography</th>\n",
       "      <th>region_type</th>\n",
       "      <th>month</th>\n",
       "      <th>day</th>\n",
       "    </tr>\n",
       "  </thead>\n",
       "  <tbody>\n",
       "    <tr>\n",
       "      <th>44</th>\n",
       "      <td>2015-01-04</td>\n",
       "      <td>0.85</td>\n",
       "      <td>2682159.95</td>\n",
       "      <td>1837999.65</td>\n",
       "      <td>524430.47</td>\n",
       "      <td>64225.78</td>\n",
       "      <td>255504.05</td>\n",
       "      <td>215571.80</td>\n",
       "      <td>36981.72</td>\n",
       "      <td>2950.53</td>\n",
       "      <td>conventional</td>\n",
       "      <td>2015</td>\n",
       "      <td>Los Angeles</td>\n",
       "      <td>Metro Region</td>\n",
       "      <td>1</td>\n",
       "      <td>4</td>\n",
       "    </tr>\n",
       "    <tr>\n",
       "      <th>45</th>\n",
       "      <td>2015-01-04</td>\n",
       "      <td>1.25</td>\n",
       "      <td>54495.54</td>\n",
       "      <td>47721.51</td>\n",
       "      <td>1723.40</td>\n",
       "      <td>0.00</td>\n",
       "      <td>5050.63</td>\n",
       "      <td>5050.63</td>\n",
       "      <td>0.00</td>\n",
       "      <td>0.00</td>\n",
       "      <td>organic</td>\n",
       "      <td>2015</td>\n",
       "      <td>Los Angeles</td>\n",
       "      <td>Metro Region</td>\n",
       "      <td>1</td>\n",
       "      <td>4</td>\n",
       "    </tr>\n",
       "    <tr>\n",
       "      <th>80</th>\n",
       "      <td>2015-01-04</td>\n",
       "      <td>1.05</td>\n",
       "      <td>430138.88</td>\n",
       "      <td>110693.69</td>\n",
       "      <td>270107.61</td>\n",
       "      <td>9737.50</td>\n",
       "      <td>39600.08</td>\n",
       "      <td>39600.08</td>\n",
       "      <td>0.00</td>\n",
       "      <td>0.00</td>\n",
       "      <td>conventional</td>\n",
       "      <td>2015</td>\n",
       "      <td>Sacramento</td>\n",
       "      <td>Metro Region</td>\n",
       "      <td>1</td>\n",
       "      <td>4</td>\n",
       "    </tr>\n",
       "    <tr>\n",
       "      <th>81</th>\n",
       "      <td>2015-01-04</td>\n",
       "      <td>1.33</td>\n",
       "      <td>9213.49</td>\n",
       "      <td>3727.52</td>\n",
       "      <td>4327.52</td>\n",
       "      <td>0.00</td>\n",
       "      <td>1158.45</td>\n",
       "      <td>1158.45</td>\n",
       "      <td>0.00</td>\n",
       "      <td>0.00</td>\n",
       "      <td>organic</td>\n",
       "      <td>2015</td>\n",
       "      <td>Sacramento</td>\n",
       "      <td>Metro Region</td>\n",
       "      <td>1</td>\n",
       "      <td>4</td>\n",
       "    </tr>\n",
       "    <tr>\n",
       "      <th>82</th>\n",
       "      <td>2015-01-04</td>\n",
       "      <td>0.94</td>\n",
       "      <td>461607.33</td>\n",
       "      <td>244152.26</td>\n",
       "      <td>165299.33</td>\n",
       "      <td>15302.75</td>\n",
       "      <td>36852.99</td>\n",
       "      <td>30884.29</td>\n",
       "      <td>5595.00</td>\n",
       "      <td>373.70</td>\n",
       "      <td>conventional</td>\n",
       "      <td>2015</td>\n",
       "      <td>San Diego</td>\n",
       "      <td>Metro Region</td>\n",
       "      <td>1</td>\n",
       "      <td>4</td>\n",
       "    </tr>\n",
       "  </tbody>\n",
       "</table>\n",
       "</div>"
      ],
      "text/plain": [
       "         date  average_price  total_volume  small_hass  large_hass  \\\n",
       "44 2015-01-04           0.85    2682159.95  1837999.65   524430.47   \n",
       "45 2015-01-04           1.25      54495.54    47721.51     1723.40   \n",
       "80 2015-01-04           1.05     430138.88   110693.69   270107.61   \n",
       "81 2015-01-04           1.33       9213.49     3727.52     4327.52   \n",
       "82 2015-01-04           0.94     461607.33   244152.26   165299.33   \n",
       "\n",
       "    extra_large_hass  total_bags  small_bags  large_bags  xlarge_bags  \\\n",
       "44          64225.78   255504.05   215571.80    36981.72      2950.53   \n",
       "45              0.00     5050.63     5050.63        0.00         0.00   \n",
       "80           9737.50    39600.08    39600.08        0.00         0.00   \n",
       "81              0.00     1158.45     1158.45        0.00         0.00   \n",
       "82          15302.75    36852.99    30884.29     5595.00       373.70   \n",
       "\n",
       "            type  year    geography   region_type  month  day  \n",
       "44  conventional  2015  Los Angeles  Metro Region      1    4  \n",
       "45       organic  2015  Los Angeles  Metro Region      1    4  \n",
       "80  conventional  2015   Sacramento  Metro Region      1    4  \n",
       "81       organic  2015   Sacramento  Metro Region      1    4  \n",
       "82  conventional  2015    San Diego  Metro Region      1    4  "
      ]
     },
     "execution_count": null,
     "metadata": {},
     "output_type": "execute_result"
    }
   ],
   "source": [
    "california.head()"
   ]
  },
  {
   "cell_type": "markdown",
   "metadata": {},
   "source": [
    "8. The following plot shows, for all four California regions, the proportion of the average Hass avocado sales that are small, large, or extra large; conventional vs. organic. Recreate the plot; you do not have to replicate the exact finishing touches - e.g., color, theme - but your plot should resemble the content of this plot.\n",
    "![](Images/figure-1.png)"
   ]
  },
  {
   "cell_type": "code",
   "execution_count": 64,
   "metadata": {
    "vscode": {
     "languageId": "python"
    }
   },
   "outputs": [
    {
     "ename": "NameError",
     "evalue": "name 'california_df' is not defined",
     "output_type": "error",
     "traceback": [
      "\u001b[0;31m---------------------------------------------------------------------------\u001b[0m\n",
      "\u001b[0;31mNameError\u001b[0m                                 Traceback (most recent call last)\n",
      "Cell \u001b[0;32mIn[64], line 10\u001b[0m\n",
      "\u001b[1;32m      1\u001b[0m \u001b[38;5;28;01mfrom\u001b[39;00m \u001b[38;5;21;01mplotnine\u001b[39;00m \u001b[38;5;28;01mimport\u001b[39;00m (\n",
      "\u001b[1;32m      2\u001b[0m     ggplot, aes, geom_bar, facet_wrap, labs, theme_minimal, theme, scale_fill_manual\n",
      "\u001b[1;32m      3\u001b[0m )\n",
      "\u001b[1;32m      5\u001b[0m \u001b[38;5;66;03m# Assuming `california_df` is already defined as a DataFrame that contains California regions only\u001b[39;00m\n",
      "\u001b[1;32m      6\u001b[0m \u001b[38;5;66;03m# Replace california_df with your own DataFrame\u001b[39;00m\n",
      "\u001b[1;32m      7\u001b[0m \n",
      "\u001b[1;32m      8\u001b[0m \u001b[38;5;66;03m# Step 1: Calculate the proportion of sales by size for each region and avocado type\u001b[39;00m\n",
      "\u001b[1;32m      9\u001b[0m size_proportion_df \u001b[38;5;241m=\u001b[39m (\n",
      "\u001b[0;32m---> 10\u001b[0m     \u001b[43mcalifornia_df\u001b[49m\n",
      "\u001b[1;32m     11\u001b[0m     \u001b[38;5;241m.\u001b[39mgroupby([\u001b[38;5;124m'\u001b[39m\u001b[38;5;124mGeography\u001b[39m\u001b[38;5;124m'\u001b[39m, \u001b[38;5;124m'\u001b[39m\u001b[38;5;124mtype\u001b[39m\u001b[38;5;124m'\u001b[39m, \u001b[38;5;124m'\u001b[39m\u001b[38;5;124msize\u001b[39m\u001b[38;5;124m'\u001b[39m])[\u001b[38;5;124m'\u001b[39m\u001b[38;5;124mtotal_volume\u001b[39m\u001b[38;5;124m'\u001b[39m]\n",
      "\u001b[1;32m     12\u001b[0m     \u001b[38;5;241m.\u001b[39msum()\n",
      "\u001b[1;32m     13\u001b[0m     \u001b[38;5;241m.\u001b[39mgroupby(level\u001b[38;5;241m=\u001b[39m[\u001b[38;5;241m0\u001b[39m, \u001b[38;5;241m1\u001b[39m])  \u001b[38;5;66;03m# Group by Geography and type to get the total\u001b[39;00m\n",
      "\u001b[1;32m     14\u001b[0m     \u001b[38;5;241m.\u001b[39mapply(\u001b[38;5;28;01mlambda\u001b[39;00m x: x \u001b[38;5;241m/\u001b[39m x\u001b[38;5;241m.\u001b[39msum())  \u001b[38;5;66;03m# Calculate the proportion\u001b[39;00m\n",
      "\u001b[1;32m     15\u001b[0m     \u001b[38;5;241m.\u001b[39mreset_index()\n",
      "\u001b[1;32m     16\u001b[0m     \u001b[38;5;241m.\u001b[39mrename(columns\u001b[38;5;241m=\u001b[39m{\u001b[38;5;124m'\u001b[39m\u001b[38;5;124mtotal_volume\u001b[39m\u001b[38;5;124m'\u001b[39m: \u001b[38;5;124m'\u001b[39m\u001b[38;5;124mProportion\u001b[39m\u001b[38;5;124m'\u001b[39m})  \u001b[38;5;66;03m# Rename for clarity\u001b[39;00m\n",
      "\u001b[1;32m     17\u001b[0m )\n",
      "\u001b[1;32m     19\u001b[0m \u001b[38;5;66;03m# Step 2: Create the plot using plotnine\u001b[39;00m\n",
      "\u001b[1;32m     20\u001b[0m (ggplot(size_proportion_df, aes(x\u001b[38;5;241m=\u001b[39m\u001b[38;5;124m'\u001b[39m\u001b[38;5;124mGeography\u001b[39m\u001b[38;5;124m'\u001b[39m, y\u001b[38;5;241m=\u001b[39m\u001b[38;5;124m'\u001b[39m\u001b[38;5;124mProportion\u001b[39m\u001b[38;5;124m'\u001b[39m, fill\u001b[38;5;241m=\u001b[39m\u001b[38;5;124m'\u001b[39m\u001b[38;5;124msize\u001b[39m\u001b[38;5;124m'\u001b[39m)) \u001b[38;5;241m+\u001b[39m\n",
      "\u001b[1;32m     21\u001b[0m     geom_bar(stat\u001b[38;5;241m=\u001b[39m\u001b[38;5;124m'\u001b[39m\u001b[38;5;124midentity\u001b[39m\u001b[38;5;124m'\u001b[39m, position\u001b[38;5;241m=\u001b[39m\u001b[38;5;124m'\u001b[39m\u001b[38;5;124mstack\u001b[39m\u001b[38;5;124m'\u001b[39m) \u001b[38;5;241m+\u001b[39m\n",
      "\u001b[1;32m     22\u001b[0m     facet_wrap(\u001b[38;5;124m'\u001b[39m\u001b[38;5;124m~type\u001b[39m\u001b[38;5;124m'\u001b[39m) \u001b[38;5;241m+\u001b[39m  \u001b[38;5;66;03m# Separate panels for conventional and organic\u001b[39;00m\n",
      "\u001b[0;32m   (...)\u001b[0m\n",
      "\u001b[1;32m     31\u001b[0m     theme(figure_size\u001b[38;5;241m=\u001b[39m(\u001b[38;5;241m10\u001b[39m, \u001b[38;5;241m6\u001b[39m))\n",
      "\u001b[1;32m     32\u001b[0m )\n",
      "\n",
      "\u001b[0;31mNameError\u001b[0m: name 'california_df' is not defined"
     ]
    }
   ],
   "source": [
    "from plotnine import (\n",
    "    ggplot, aes, geom_bar, facet_wrap, labs, theme_minimal, theme, scale_fill_manual\n",
    ")\n",
    "\n",
    "# Assuming `california_df` is already defined as a DataFrame that contains California regions only\n",
    "# Replace california_df with your own DataFrame\n",
    "\n",
    "# Step 1: Calculate the proportion of sales by size for each region and avocado type\n",
    "size_proportion_df = (\n",
    "    california_df\n",
    "    .groupby(['geography', 'type', 'size'])['total_volume']\n",
    "    .sum()\n",
    "    .groupby(level=[0, 1])  # Group by Geography and type to get the total\n",
    "    .apply(lambda x: x / x.sum())  # Calculate the proportion\n",
    "    .reset_index()\n",
    "    .rename(columns={'total_volume': 'Proportion'})  # Rename for clarity\n",
    ")\n",
    "\n",
    "# Step 2: Create the plot using plotnine\n",
    "(ggplot(size_proportion_df, aes(x='geography', y='Proportion', fill='size')) +\n",
    "    geom_bar(stat='identity', position='stack') +\n",
    "    facet_wrap('~type') +  # Separate panels for conventional and organic\n",
    "    labs(\n",
    "        title='Proportion of Average Hass Avocado Sales by Size',\n",
    "        x='Region of California',\n",
    "        y='Proportion',\n",
    "        fill='size'\n",
    "    ) +\n",
    "    scale_fill_manual(values={'Xlarge': '#6A5ACD', 'Large': '#3CB371', 'Small': '#CD853F'}) +  # Custom colors\n",
    "    theme_minimal() +\n",
    "    theme(figure_size=(10, 6))\n",
    ")\n"
   ]
  }
 ],
 "metadata": {
  "language_info": {
   "name": "raw"
  }
 },
 "nbformat": 4,
 "nbformat_minor": 2
}
